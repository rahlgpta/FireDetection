{
  "nbformat": 4,
  "nbformat_minor": 0,
  "metadata": {
    "colab": {
      "provenance": [],
      "gpuType": "T4",
      "mount_file_id": "1IyNxun75vY2L0WMH4NBmiBI5JJ8xUvXR",
      "authorship_tag": "ABX9TyMlgR9Nvk0rX5bRnteW35j9",
      "include_colab_link": true
    },
    "kernelspec": {
      "name": "python3",
      "display_name": "Python 3"
    },
    "language_info": {
      "name": "python"
    },
    "accelerator": "GPU"
  },
  "cells": [
    {
      "cell_type": "markdown",
      "metadata": {
        "id": "view-in-github",
        "colab_type": "text"
      },
      "source": [
        "<a href=\"https://colab.research.google.com/github/rahlgpta/ForrestFireDetection/blob/main/CNN.ipynb\" target=\"_parent\"><img src=\"https://colab.research.google.com/assets/colab-badge.svg\" alt=\"Open In Colab\"/></a>"
      ]
    },
    {
      "cell_type": "code",
      "source": [
        "import os\n",
        "import zipfile\n",
        "import tensorflow as tf\n",
        "from tensorflow.keras.preprocessing.image import ImageDataGenerator\n",
        "from tensorflow.keras.models import Sequential\n",
        "from tensorflow.keras.layers import Conv2D, MaxPooling2D, Flatten, Dense, Dropout"
      ],
      "metadata": {
        "id": "Pqi_T7xjCdD0"
      },
      "execution_count": 1,
      "outputs": []
    },
    {
      "cell_type": "code",
      "execution_count": 3,
      "metadata": {
        "id": "uBLwI8PGCbfY"
      },
      "outputs": [],
      "source": [
        "zip_file_path = '/content/drive/MyDrive/Dataset.zip'"
      ]
    },
    {
      "cell_type": "code",
      "source": [
        "extracted_path = '/content/dataset/'"
      ],
      "metadata": {
        "id": "qnoPkfELCxip"
      },
      "execution_count": 4,
      "outputs": []
    },
    {
      "cell_type": "code",
      "source": [
        "with zipfile.ZipFile(zip_file_path, 'r') as zip_ref:\n",
        "    zip_ref.extractall(extracted_path)"
      ],
      "metadata": {
        "id": "hL5NYsEeC1Ui"
      },
      "execution_count": null,
      "outputs": []
    },
    {
      "cell_type": "code",
      "source": [
        "train_data_dir = os.path.join(extracted_path, 'Forest Fire Dataset', 'Training')\n",
        "test_data_dir = os.path.join(extracted_path, 'Forest Fire Dataset', 'Testing')"
      ],
      "metadata": {
        "id": "X23DFeZQDLO6"
      },
      "execution_count": 5,
      "outputs": []
    },
    {
      "cell_type": "code",
      "source": [
        "batch_size = 32\n",
        "img_height, img_width = 250, 250"
      ],
      "metadata": {
        "id": "JBROpPcuDY_q"
      },
      "execution_count": 6,
      "outputs": []
    },
    {
      "cell_type": "code",
      "source": [
        "train_datagen = ImageDataGenerator(rescale=1.0/255.0)\n",
        "test_datagen = ImageDataGenerator(rescale=1.0/255.0)\n"
      ],
      "metadata": {
        "id": "l_byNfAODdPw"
      },
      "execution_count": 7,
      "outputs": []
    },
    {
      "cell_type": "code",
      "source": [
        "train_generator = train_datagen.flow_from_directory(\n",
        "    train_data_dir,\n",
        "    target_size=(img_height, img_width),\n",
        "    batch_size=batch_size,\n",
        "    class_mode='binary'  # Binary classification\n",
        ")"
      ],
      "metadata": {
        "colab": {
          "base_uri": "https://localhost:8080/"
        },
        "id": "vvNdMjjBDhIg",
        "outputId": "a2820a6f-075a-42cd-b4f4-2c694bde89b4"
      },
      "execution_count": 9,
      "outputs": [
        {
          "output_type": "stream",
          "name": "stdout",
          "text": [
            "Found 1520 images belonging to 2 classes.\n"
          ]
        }
      ]
    },
    {
      "cell_type": "code",
      "source": [
        "model = Sequential([\n",
        "    Conv2D(32, (3, 3), activation='relu', input_shape=(img_height, img_width, 3)),\n",
        "    MaxPooling2D(2, 2),\n",
        "    Conv2D(64, (3, 3), activation='relu'),\n",
        "    MaxPooling2D(2, 2),\n",
        "    Conv2D(128, (3, 3), activation='relu'),\n",
        "    MaxPooling2D(2, 2),\n",
        "    Flatten(),\n",
        "    Dense(128, activation='relu'),\n",
        "    Dropout(0.5),\n",
        "    Dense(1, activation='sigmoid')\n",
        "])"
      ],
      "metadata": {
        "id": "w8K_JxBcDqp4"
      },
      "execution_count": 10,
      "outputs": []
    },
    {
      "cell_type": "code",
      "source": [
        "model.compile(optimizer='adam', loss='binary_crossentropy', metrics=['accuracy'])\n",
        "num_epochs = 10\n",
        "history = model.fit(train_generator, epochs=num_epochs)\n"
      ],
      "metadata": {
        "colab": {
          "base_uri": "https://localhost:8080/"
        },
        "id": "IOdLOuM7Gs_l",
        "outputId": "f68139b6-3134-42c6-aa3f-13784387bf34"
      },
      "execution_count": null,
      "outputs": [
        {
          "output_type": "stream",
          "name": "stdout",
          "text": [
            "Epoch 1/10\n",
            "48/48 [==============================] - 244s 5s/step - loss: 0.4327 - accuracy: 0.8625\n",
            "Epoch 2/10\n",
            "48/48 [==============================] - 240s 5s/step - loss: 0.1775 - accuracy: 0.9355\n",
            "Epoch 3/10\n",
            "48/48 [==============================] - 230s 5s/step - loss: 0.1451 - accuracy: 0.9572\n",
            "Epoch 4/10\n",
            "48/48 [==============================] - 232s 5s/step - loss: 0.1307 - accuracy: 0.9586\n",
            "Epoch 5/10\n",
            "48/48 [==============================] - 233s 5s/step - loss: 0.1210 - accuracy: 0.9572\n",
            "Epoch 6/10\n",
            "48/48 [==============================] - 234s 5s/step - loss: 0.1011 - accuracy: 0.9632\n",
            "Epoch 7/10\n",
            "48/48 [==============================] - 232s 5s/step - loss: 0.1232 - accuracy: 0.9579\n",
            "Epoch 8/10\n",
            "48/48 [==============================] - 233s 5s/step - loss: 0.1053 - accuracy: 0.9645\n",
            "Epoch 9/10\n",
            " 8/48 [====>.........................] - ETA: 3:17 - loss: 0.0560 - accuracy: 0.9844"
          ]
        }
      ]
    },
    {
      "cell_type": "code",
      "source": [
        "evaluation = model.evaluate(test_generator)\n",
        "print(\"Test Loss:\", evaluation[0])\n",
        "print(\"Test Accuracy:\", evaluation[1])"
      ],
      "metadata": {
        "id": "HqKicDYdG9Js"
      },
      "execution_count": null,
      "outputs": []
    }
  ]
}