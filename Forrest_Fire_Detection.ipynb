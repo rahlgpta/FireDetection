{
  "nbformat": 4,
  "nbformat_minor": 0,
  "metadata": {
    "colab": {
      "provenance": [],
      "gpuType": "T4",
      "mount_file_id": "1IyNxun75vY2L0WMH4NBmiBI5JJ8xUvXR",
      "authorship_tag": "ABX9TyOulos+1Pwm2R31Hhl0tIGq",
      "include_colab_link": true
    },
    "kernelspec": {
      "name": "python3",
      "display_name": "Python 3"
    },
    "language_info": {
      "name": "python"
    },
    "accelerator": "GPU"
  },
  "cells": [
    {
      "cell_type": "markdown",
      "metadata": {
        "id": "view-in-github",
        "colab_type": "text"
      },
      "source": [
        "<a href=\"https://colab.research.google.com/github/rahlgpta/ForrestFireDetection/blob/main/Forrest_Fire_Detection.ipynb\" target=\"_parent\"><img src=\"https://colab.research.google.com/assets/colab-badge.svg\" alt=\"Open In Colab\"/></a>"
      ]
    },
    {
      "cell_type": "code",
      "source": [
        "import os\n",
        "import zipfile\n",
        "import tensorflow as tf\n",
        "import numpy as np\n",
        "from tensorflow.keras.preprocessing.image import ImageDataGenerator\n",
        "import random\n",
        "import matplotlib.pyplot as plt\n",
        "from tensorflow.keras.models import Sequential\n",
        "from tensorflow.keras.layers import Conv2D, MaxPooling2D, Flatten, Dense, Dropout\n",
        "from tensorflow.keras.preprocessing.image import load_img, img_to_array"
      ],
      "metadata": {
        "id": "Pqi_T7xjCdD0"
      },
      "execution_count": 24,
      "outputs": []
    },
    {
      "cell_type": "code",
      "execution_count": 3,
      "metadata": {
        "id": "uBLwI8PGCbfY"
      },
      "outputs": [],
      "source": [
        "zip_file_path = '/content/drive/MyDrive/Dataset.zip'"
      ]
    },
    {
      "cell_type": "code",
      "source": [
        "extracted_path = '/content/dataset/'"
      ],
      "metadata": {
        "id": "qnoPkfELCxip"
      },
      "execution_count": 4,
      "outputs": []
    },
    {
      "cell_type": "code",
      "source": [
        "with zipfile.ZipFile(zip_file_path, 'r') as zip_ref:\n",
        "    zip_ref.extractall(extracted_path)"
      ],
      "metadata": {
        "id": "hL5NYsEeC1Ui"
      },
      "execution_count": null,
      "outputs": []
    },
    {
      "cell_type": "code",
      "source": [
        "train_data_dir = os.path.join(extracted_path, 'Forest Fire Dataset', 'Training')\n",
        "test_data_dir = os.path.join(extracted_path, 'Forest Fire Dataset', 'Testing')"
      ],
      "metadata": {
        "id": "X23DFeZQDLO6"
      },
      "execution_count": 5,
      "outputs": []
    },
    {
      "cell_type": "code",
      "source": [
        "batch_size = 32\n",
        "img_height, img_width = 250, 250"
      ],
      "metadata": {
        "id": "JBROpPcuDY_q"
      },
      "execution_count": 6,
      "outputs": []
    },
    {
      "cell_type": "code",
      "source": [
        "train_datagen = ImageDataGenerator(rescale=1.0/255.0)\n",
        "test_datagen = ImageDataGenerator(rescale=1.0/255.0)\n"
      ],
      "metadata": {
        "id": "l_byNfAODdPw"
      },
      "execution_count": 7,
      "outputs": []
    },
    {
      "cell_type": "code",
      "source": [
        "train_generator = train_datagen.flow_from_directory(\n",
        "    train_data_dir,\n",
        "    target_size=(img_height, img_width),\n",
        "    batch_size=batch_size,\n",
        "    class_mode='binary'  # Binary classification\n",
        ")"
      ],
      "metadata": {
        "colab": {
          "base_uri": "https://localhost:8080/"
        },
        "id": "vvNdMjjBDhIg",
        "outputId": "a2820a6f-075a-42cd-b4f4-2c694bde89b4"
      },
      "execution_count": 9,
      "outputs": [
        {
          "output_type": "stream",
          "name": "stdout",
          "text": [
            "Found 1520 images belonging to 2 classes.\n"
          ]
        }
      ]
    },
    {
      "cell_type": "code",
      "source": [
        "model = Sequential([\n",
        "    Conv2D(32, (3, 3), activation='relu', input_shape=(img_height, img_width, 3)),\n",
        "    MaxPooling2D(2, 2),\n",
        "    Conv2D(64, (3, 3), activation='relu'),\n",
        "    MaxPooling2D(2, 2),\n",
        "    Conv2D(128, (3, 3), activation='relu'),\n",
        "    MaxPooling2D(2, 2),\n",
        "    Flatten(),\n",
        "    Dense(128, activation='relu'),\n",
        "    Dropout(0.5),\n",
        "    Dense(1, activation='sigmoid')\n",
        "])"
      ],
      "metadata": {
        "id": "w8K_JxBcDqp4"
      },
      "execution_count": 10,
      "outputs": []
    },
    {
      "cell_type": "code",
      "source": [
        "model.compile(optimizer='adam', loss='binary_crossentropy', metrics=['accuracy'])\n",
        "num_epochs = 10\n",
        "history = model.fit(train_generator, epochs=num_epochs)\n"
      ],
      "metadata": {
        "colab": {
          "base_uri": "https://localhost:8080/"
        },
        "id": "IOdLOuM7Gs_l",
        "outputId": "f68139b6-3134-42c6-aa3f-13784387bf34"
      },
      "execution_count": 11,
      "outputs": [
        {
          "output_type": "stream",
          "name": "stdout",
          "text": [
            "Epoch 1/10\n",
            "48/48 [==============================] - 244s 5s/step - loss: 0.4327 - accuracy: 0.8625\n",
            "Epoch 2/10\n",
            "48/48 [==============================] - 240s 5s/step - loss: 0.1775 - accuracy: 0.9355\n",
            "Epoch 3/10\n",
            "48/48 [==============================] - 230s 5s/step - loss: 0.1451 - accuracy: 0.9572\n",
            "Epoch 4/10\n",
            "48/48 [==============================] - 232s 5s/step - loss: 0.1307 - accuracy: 0.9586\n",
            "Epoch 5/10\n",
            "48/48 [==============================] - 233s 5s/step - loss: 0.1210 - accuracy: 0.9572\n",
            "Epoch 6/10\n",
            "48/48 [==============================] - 234s 5s/step - loss: 0.1011 - accuracy: 0.9632\n",
            "Epoch 7/10\n",
            "48/48 [==============================] - 232s 5s/step - loss: 0.1232 - accuracy: 0.9579\n",
            "Epoch 8/10\n",
            "48/48 [==============================] - 233s 5s/step - loss: 0.1053 - accuracy: 0.9645\n",
            "Epoch 9/10\n",
            "48/48 [==============================] - 233s 5s/step - loss: 0.0634 - accuracy: 0.9816\n",
            "Epoch 10/10\n",
            "48/48 [==============================] - 232s 5s/step - loss: 0.0542 - accuracy: 0.9803\n"
          ]
        }
      ]
    },
    {
      "cell_type": "code",
      "source": [
        "model.save('/content/drive/MyDrive/forest_fire_classifier.h5')\n"
      ],
      "metadata": {
        "id": "HqKicDYdG9Js"
      },
      "execution_count": 12,
      "outputs": []
    },
    {
      "cell_type": "code",
      "source": [
        "model = tf.keras.models.load_model('/content/drive/MyDrive/forest_fire_classifier.h5')\n"
      ],
      "metadata": {
        "id": "fp0GBFxZVwW1"
      },
      "execution_count": 13,
      "outputs": []
    },
    {
      "cell_type": "code",
      "source": [
        "test_image_paths = [os.path.join(test_data_dir, img) for img in os.listdir(test_data_dir)]\n"
      ],
      "metadata": {
        "id": "zysBdaIlVzm2"
      },
      "execution_count": 14,
      "outputs": []
    },
    {
      "cell_type": "code",
      "source": [
        "test_images = []\n",
        "for img_path in test_image_paths:\n",
        "    img = load_img(img_path, target_size=(img_height, img_width))\n",
        "    img = img_to_array(img) / 255.0  # Normalize pixel values\n",
        "    test_images.append(img)"
      ],
      "metadata": {
        "id": "b_MTNKClV2Kw"
      },
      "execution_count": 17,
      "outputs": []
    },
    {
      "cell_type": "code",
      "source": [
        "test_images = np.array(test_images)\n",
        "test_predictions = model.predict(test_images)"
      ],
      "metadata": {
        "colab": {
          "base_uri": "https://localhost:8080/"
        },
        "id": "b2o8z51PV5Tx",
        "outputId": "032dbcdb-a845-4609-efbc-471f98513646"
      },
      "execution_count": 21,
      "outputs": [
        {
          "output_type": "stream",
          "name": "stdout",
          "text": [
            "12/12 [==============================] - 27s 2s/step\n"
          ]
        }
      ]
    },
    {
      "cell_type": "code",
      "source": [
        "for i in range(len(test_predictions)):\n",
        "    predicted_label = \"Non-Fire\" if test_predictions[i] > 0.5 else \"Fire\"\n",
        "    confidence = test_predictions[i][0] if predicted_label == \"Non-Fire\" else 1 - test_predictions[i][0]\n",
        "    print(f\"Image: {test_image_paths[i]}, Predicted Label: {predicted_label}, Confidence: {confidence}\")"
      ],
      "metadata": {
        "colab": {
          "base_uri": "https://localhost:8080/"
        },
        "id": "BIC_AAtdWuQO",
        "outputId": "024fdb97-d319-4068-a6e8-d640697e55d2"
      },
      "execution_count": 23,
      "outputs": [
        {
          "output_type": "stream",
          "name": "stdout",
          "text": [
            "Image: /content/dataset/Forest Fire Dataset/Testing/nofire_0237.jpg, Predicted Label: Non-Fire, Confidence: 0.9999112486839294\n",
            "Image: /content/dataset/Forest Fire Dataset/Testing/nofire_0831.jpg, Predicted Label: Non-Fire, Confidence: 0.9968569874763489\n",
            "Image: /content/dataset/Forest Fire Dataset/Testing/fire_0398.jpg, Predicted Label: Fire, Confidence: 0.9859888069331646\n",
            "Image: /content/dataset/Forest Fire Dataset/Testing/fire_0413.jpg, Predicted Label: Fire, Confidence: 0.8710074573755264\n",
            "Image: /content/dataset/Forest Fire Dataset/Testing/nofire_0379.jpg, Predicted Label: Non-Fire, Confidence: 0.9960350394248962\n",
            "Image: /content/dataset/Forest Fire Dataset/Testing/nofire_0730.jpg, Predicted Label: Non-Fire, Confidence: 0.9996612071990967\n",
            "Image: /content/dataset/Forest Fire Dataset/Testing/nofire_0921.jpg, Predicted Label: Non-Fire, Confidence: 0.9976954460144043\n",
            "Image: /content/dataset/Forest Fire Dataset/Testing/nofire_0370.jpg, Predicted Label: Non-Fire, Confidence: 0.999858558177948\n",
            "Image: /content/dataset/Forest Fire Dataset/Testing/fire_0696.jpg, Predicted Label: Fire, Confidence: 0.9953988934867084\n",
            "Image: /content/dataset/Forest Fire Dataset/Testing/fire_0158.jpg, Predicted Label: Fire, Confidence: 0.9999177277568378\n",
            "Image: /content/dataset/Forest Fire Dataset/Testing/nofire_0657.jpg, Predicted Label: Non-Fire, Confidence: 1.0\n",
            "Image: /content/dataset/Forest Fire Dataset/Testing/nofire_0275.jpg, Predicted Label: Non-Fire, Confidence: 0.9999997019767761\n",
            "Image: /content/dataset/Forest Fire Dataset/Testing/fire_0107.jpg, Predicted Label: Fire, Confidence: 0.9869343191385269\n",
            "Image: /content/dataset/Forest Fire Dataset/Testing/fire_0040.jpg, Predicted Label: Fire, Confidence: 0.9989424077793956\n",
            "Image: /content/dataset/Forest Fire Dataset/Testing/fire_0271.jpg, Predicted Label: Fire, Confidence: 0.9997229615692049\n",
            "Image: /content/dataset/Forest Fire Dataset/Testing/nofire_0158.jpg, Predicted Label: Non-Fire, Confidence: 0.9981464147567749\n",
            "Image: /content/dataset/Forest Fire Dataset/Testing/fire_0358.jpg, Predicted Label: Fire, Confidence: 0.9776195492595434\n",
            "Image: /content/dataset/Forest Fire Dataset/Testing/nofire_0400.jpg, Predicted Label: Non-Fire, Confidence: 0.9138269424438477\n",
            "Image: /content/dataset/Forest Fire Dataset/Testing/fire_0563.jpg, Predicted Label: Fire, Confidence: 0.9998753851396032\n",
            "Image: /content/dataset/Forest Fire Dataset/Testing/fire_0247.jpg, Predicted Label: Fire, Confidence: 0.9999940121260806\n",
            "Image: /content/dataset/Forest Fire Dataset/Testing/nofire_0246.jpg, Predicted Label: Non-Fire, Confidence: 0.9999953508377075\n",
            "Image: /content/dataset/Forest Fire Dataset/Testing/fire_0893.jpg, Predicted Label: Fire, Confidence: 0.9993597702705301\n",
            "Image: /content/dataset/Forest Fire Dataset/Testing/nofire_0509.jpg, Predicted Label: Non-Fire, Confidence: 0.9999903440475464\n",
            "Image: /content/dataset/Forest Fire Dataset/Testing/fire_0557.jpg, Predicted Label: Non-Fire, Confidence: 0.5030920505523682\n",
            "Image: /content/dataset/Forest Fire Dataset/Testing/fire_0484.jpg, Predicted Label: Fire, Confidence: 0.9999995494343352\n",
            "Image: /content/dataset/Forest Fire Dataset/Testing/fire_0728.jpg, Predicted Label: Fire, Confidence: 0.99998738760587\n",
            "Image: /content/dataset/Forest Fire Dataset/Testing/nofire_0564.jpg, Predicted Label: Fire, Confidence: 0.9938918203115463\n",
            "Image: /content/dataset/Forest Fire Dataset/Testing/fire_0015.jpg, Predicted Label: Fire, Confidence: 0.9992562563857064\n",
            "Image: /content/dataset/Forest Fire Dataset/Testing/nofire_0781.jpg, Predicted Label: Non-Fire, Confidence: 0.9990727305412292\n",
            "Image: /content/dataset/Forest Fire Dataset/Testing/fire_0297.jpg, Predicted Label: Fire, Confidence: 0.9724125564098358\n",
            "Image: /content/dataset/Forest Fire Dataset/Testing/fire_0612.jpg, Predicted Label: Fire, Confidence: 0.9999999871715977\n",
            "Image: /content/dataset/Forest Fire Dataset/Testing/fire_0935.jpg, Predicted Label: Fire, Confidence: 0.9988299743272364\n",
            "Image: /content/dataset/Forest Fire Dataset/Testing/fire_0335.jpg, Predicted Label: Fire, Confidence: 0.9999654779603588\n",
            "Image: /content/dataset/Forest Fire Dataset/Testing/nofire_0483.jpg, Predicted Label: Non-Fire, Confidence: 0.999946653842926\n",
            "Image: /content/dataset/Forest Fire Dataset/Testing/fire_0516.jpg, Predicted Label: Fire, Confidence: 0.9956637960858643\n",
            "Image: /content/dataset/Forest Fire Dataset/Testing/nofire_0522.jpg, Predicted Label: Non-Fire, Confidence: 0.9999350309371948\n",
            "Image: /content/dataset/Forest Fire Dataset/Testing/nofire_0535.jpg, Predicted Label: Fire, Confidence: 0.8773385360836983\n",
            "Image: /content/dataset/Forest Fire Dataset/Testing/nofire_0948.jpg, Predicted Label: Non-Fire, Confidence: 0.9998286962509155\n",
            "Image: /content/dataset/Forest Fire Dataset/Testing/nofire_0471.jpg, Predicted Label: Non-Fire, Confidence: 0.9987621307373047\n",
            "Image: /content/dataset/Forest Fire Dataset/Testing/nofire_0152.jpg, Predicted Label: Non-Fire, Confidence: 0.9980701208114624\n",
            "Image: /content/dataset/Forest Fire Dataset/Testing/nofire_0580.jpg, Predicted Label: Non-Fire, Confidence: 0.997347354888916\n",
            "Image: /content/dataset/Forest Fire Dataset/Testing/fire_0124.jpg, Predicted Label: Fire, Confidence: 0.999972703459207\n",
            "Image: /content/dataset/Forest Fire Dataset/Testing/nofire_0513.jpg, Predicted Label: Non-Fire, Confidence: 0.9982130527496338\n",
            "Image: /content/dataset/Forest Fire Dataset/Testing/nofire_0097.jpg, Predicted Label: Non-Fire, Confidence: 0.9995994567871094\n",
            "Image: /content/dataset/Forest Fire Dataset/Testing/fire_0845.jpg, Predicted Label: Fire, Confidence: 0.9998072036396479\n",
            "Image: /content/dataset/Forest Fire Dataset/Testing/nofire_0714.jpg, Predicted Label: Non-Fire, Confidence: 0.999906599521637\n",
            "Image: /content/dataset/Forest Fire Dataset/Testing/fire_0818.jpg, Predicted Label: Fire, Confidence: 0.9995073160971515\n",
            "Image: /content/dataset/Forest Fire Dataset/Testing/nofire_0305.jpg, Predicted Label: Non-Fire, Confidence: 0.9999672770500183\n",
            "Image: /content/dataset/Forest Fire Dataset/Testing/nofire_0241.jpg, Predicted Label: Non-Fire, Confidence: 0.9977971911430359\n",
            "Image: /content/dataset/Forest Fire Dataset/Testing/fire_0229.jpg, Predicted Label: Fire, Confidence: 0.9858318837359548\n",
            "Image: /content/dataset/Forest Fire Dataset/Testing/nofire_0039.jpg, Predicted Label: Non-Fire, Confidence: 0.9959120154380798\n",
            "Image: /content/dataset/Forest Fire Dataset/Testing/nofire_0212.jpg, Predicted Label: Non-Fire, Confidence: 0.9999959468841553\n",
            "Image: /content/dataset/Forest Fire Dataset/Testing/nofire_0167.jpg, Predicted Label: Non-Fire, Confidence: 0.9997447729110718\n",
            "Image: /content/dataset/Forest Fire Dataset/Testing/fire_0461.jpg, Predicted Label: Fire, Confidence: 0.9988269355380908\n",
            "Image: /content/dataset/Forest Fire Dataset/Testing/nofire_0840.jpg, Predicted Label: Non-Fire, Confidence: 0.999992847442627\n",
            "Image: /content/dataset/Forest Fire Dataset/Testing/nofire_0894.jpg, Predicted Label: Non-Fire, Confidence: 0.9798234701156616\n",
            "Image: /content/dataset/Forest Fire Dataset/Testing/fire_0616.jpg, Predicted Label: Fire, Confidence: 0.998171424260363\n",
            "Image: /content/dataset/Forest Fire Dataset/Testing/nofire_0318.jpg, Predicted Label: Non-Fire, Confidence: 0.9999183416366577\n",
            "Image: /content/dataset/Forest Fire Dataset/Testing/fire_0352.jpg, Predicted Label: Fire, Confidence: 0.9997765680891462\n",
            "Image: /content/dataset/Forest Fire Dataset/Testing/fire_0538.jpg, Predicted Label: Fire, Confidence: 0.9994502253248356\n",
            "Image: /content/dataset/Forest Fire Dataset/Testing/fire_0432.jpg, Predicted Label: Fire, Confidence: 0.9999890323269938\n",
            "Image: /content/dataset/Forest Fire Dataset/Testing/nofire_0542.jpg, Predicted Label: Non-Fire, Confidence: 0.9999564290046692\n",
            "Image: /content/dataset/Forest Fire Dataset/Testing/fire_0472.jpg, Predicted Label: Fire, Confidence: 0.9996992262313142\n",
            "Image: /content/dataset/Forest Fire Dataset/Testing/nofire_0652.jpg, Predicted Label: Non-Fire, Confidence: 0.8967053294181824\n",
            "Image: /content/dataset/Forest Fire Dataset/Testing/fire_0566.jpg, Predicted Label: Fire, Confidence: 0.9999970051674154\n",
            "Image: /content/dataset/Forest Fire Dataset/Testing/fire_0775.jpg, Predicted Label: Fire, Confidence: 0.9961354194674641\n",
            "Image: /content/dataset/Forest Fire Dataset/Testing/nofire_0302.jpg, Predicted Label: Non-Fire, Confidence: 0.9998461604118347\n",
            "Image: /content/dataset/Forest Fire Dataset/Testing/nofire_0571.jpg, Predicted Label: Non-Fire, Confidence: 0.9999971985816956\n",
            "Image: /content/dataset/Forest Fire Dataset/Testing/fire_0720.jpg, Predicted Label: Fire, Confidence: 0.9999401164095616\n",
            "Image: /content/dataset/Forest Fire Dataset/Testing/fire_0497.jpg, Predicted Label: Fire, Confidence: 0.9999999605387586\n",
            "Image: /content/dataset/Forest Fire Dataset/Testing/fire_0169.jpg, Predicted Label: Non-Fire, Confidence: 0.981170654296875\n",
            "Image: /content/dataset/Forest Fire Dataset/Testing/fire_0411.jpg, Predicted Label: Fire, Confidence: 0.9976446020882577\n",
            "Image: /content/dataset/Forest Fire Dataset/Testing/nofire_0252.jpg, Predicted Label: Non-Fire, Confidence: 0.999966561794281\n",
            "Image: /content/dataset/Forest Fire Dataset/Testing/fire_0698.jpg, Predicted Label: Fire, Confidence: 0.9999999245921458\n",
            "Image: /content/dataset/Forest Fire Dataset/Testing/fire_0512.jpg, Predicted Label: Fire, Confidence: 0.9639292396605015\n",
            "Image: /content/dataset/Forest Fire Dataset/Testing/nofire_0619.jpg, Predicted Label: Non-Fire, Confidence: 0.9996311068534851\n",
            "Image: /content/dataset/Forest Fire Dataset/Testing/nofire_0596.jpg, Predicted Label: Non-Fire, Confidence: 0.9999605417251587\n",
            "Image: /content/dataset/Forest Fire Dataset/Testing/nofire_0708.jpg, Predicted Label: Non-Fire, Confidence: 0.9999831914901733\n",
            "Image: /content/dataset/Forest Fire Dataset/Testing/nofire_0112.jpg, Predicted Label: Non-Fire, Confidence: 1.0\n",
            "Image: /content/dataset/Forest Fire Dataset/Testing/nofire_0589.jpg, Predicted Label: Non-Fire, Confidence: 0.9999962449073792\n",
            "Image: /content/dataset/Forest Fire Dataset/Testing/nofire_0647.jpg, Predicted Label: Non-Fire, Confidence: 0.9999760985374451\n",
            "Image: /content/dataset/Forest Fire Dataset/Testing/fire_0153.jpg, Predicted Label: Fire, Confidence: 0.999925701682514\n",
            "Image: /content/dataset/Forest Fire Dataset/Testing/nofire_0389.jpg, Predicted Label: Non-Fire, Confidence: 0.9999909400939941\n",
            "Image: /content/dataset/Forest Fire Dataset/Testing/nofire_0787.jpg, Predicted Label: Non-Fire, Confidence: 0.996462345123291\n",
            "Image: /content/dataset/Forest Fire Dataset/Testing/fire_0796.jpg, Predicted Label: Fire, Confidence: 0.9999775270025566\n",
            "Image: /content/dataset/Forest Fire Dataset/Testing/fire_0902.jpg, Predicted Label: Fire, Confidence: 0.9999933927383609\n",
            "Image: /content/dataset/Forest Fire Dataset/Testing/nofire_0415.jpg, Predicted Label: Non-Fire, Confidence: 0.9869595170021057\n",
            "Image: /content/dataset/Forest Fire Dataset/Testing/fire_0449.jpg, Predicted Label: Fire, Confidence: 0.9891134155914187\n",
            "Image: /content/dataset/Forest Fire Dataset/Testing/nofire_0767.jpg, Predicted Label: Non-Fire, Confidence: 0.767317533493042\n",
            "Image: /content/dataset/Forest Fire Dataset/Testing/nofire_0230.jpg, Predicted Label: Non-Fire, Confidence: 0.9984797835350037\n",
            "Image: /content/dataset/Forest Fire Dataset/Testing/nofire_0615.jpg, Predicted Label: Non-Fire, Confidence: 0.9999926090240479\n",
            "Image: /content/dataset/Forest Fire Dataset/Testing/fire_0579.jpg, Predicted Label: Fire, Confidence: 0.999632625549566\n",
            "Image: /content/dataset/Forest Fire Dataset/Testing/fire_0038.jpg, Predicted Label: Fire, Confidence: 0.9999937416414468\n",
            "Image: /content/dataset/Forest Fire Dataset/Testing/nofire_0340.jpg, Predicted Label: Non-Fire, Confidence: 0.9888004660606384\n",
            "Image: /content/dataset/Forest Fire Dataset/Testing/nofire_0686.jpg, Predicted Label: Non-Fire, Confidence: 0.9848437905311584\n",
            "Image: /content/dataset/Forest Fire Dataset/Testing/nofire_0630.jpg, Predicted Label: Non-Fire, Confidence: 0.9598740339279175\n",
            "Image: /content/dataset/Forest Fire Dataset/Testing/fire_0921.jpg, Predicted Label: Fire, Confidence: 0.8309318870306015\n",
            "Image: /content/dataset/Forest Fire Dataset/Testing/nofire_0778.jpg, Predicted Label: Non-Fire, Confidence: 0.9936626553535461\n",
            "Image: /content/dataset/Forest Fire Dataset/Testing/nofire_0553.jpg, Predicted Label: Non-Fire, Confidence: 0.9996141791343689\n",
            "Image: /content/dataset/Forest Fire Dataset/Testing/nofire_0032.jpg, Predicted Label: Non-Fire, Confidence: 0.9527062177658081\n",
            "Image: /content/dataset/Forest Fire Dataset/Testing/fire_0275.jpg, Predicted Label: Fire, Confidence: 0.9773003086447716\n",
            "Image: /content/dataset/Forest Fire Dataset/Testing/nofire_0081.jpg, Predicted Label: Non-Fire, Confidence: 0.7980266213417053\n",
            "Image: /content/dataset/Forest Fire Dataset/Testing/nofire_0184.jpg, Predicted Label: Fire, Confidence: 0.9016758352518082\n",
            "Image: /content/dataset/Forest Fire Dataset/Testing/nofire_0147.jpg, Predicted Label: Non-Fire, Confidence: 0.9552863836288452\n",
            "Image: /content/dataset/Forest Fire Dataset/Testing/nofire_0495.jpg, Predicted Label: Non-Fire, Confidence: 0.999916672706604\n",
            "Image: /content/dataset/Forest Fire Dataset/Testing/nofire_0805.jpg, Predicted Label: Non-Fire, Confidence: 0.9996086359024048\n",
            "Image: /content/dataset/Forest Fire Dataset/Testing/fire_0607.jpg, Predicted Label: Fire, Confidence: 0.9999014980785432\n",
            "Image: /content/dataset/Forest Fire Dataset/Testing/fire_0211.jpg, Predicted Label: Fire, Confidence: 0.9970854765269905\n",
            "Image: /content/dataset/Forest Fire Dataset/Testing/fire_0367.jpg, Predicted Label: Fire, Confidence: 0.9991719871759415\n",
            "Image: /content/dataset/Forest Fire Dataset/Testing/nofire_0733.jpg, Predicted Label: Fire, Confidence: 0.7988641262054443\n",
            "Image: /content/dataset/Forest Fire Dataset/Testing/fire_0624.jpg, Predicted Label: Fire, Confidence: 0.9999092923681019\n",
            "Image: /content/dataset/Forest Fire Dataset/Testing/nofire_0489.jpg, Predicted Label: Non-Fire, Confidence: 0.9736122488975525\n",
            "Image: /content/dataset/Forest Fire Dataset/Testing/fire_0198.jpg, Predicted Label: Fire, Confidence: 0.5609170496463776\n",
            "Image: /content/dataset/Forest Fire Dataset/Testing/fire_0712.jpg, Predicted Label: Fire, Confidence: 0.9999705006321165\n",
            "Image: /content/dataset/Forest Fire Dataset/Testing/nofire_0459.jpg, Predicted Label: Non-Fire, Confidence: 1.0\n",
            "Image: /content/dataset/Forest Fire Dataset/Testing/fire_0542.jpg, Predicted Label: Fire, Confidence: 0.9999937002044135\n",
            "Image: /content/dataset/Forest Fire Dataset/Testing/nofire_0012.jpg, Predicted Label: Non-Fire, Confidence: 0.9958325624465942\n",
            "Image: /content/dataset/Forest Fire Dataset/Testing/nofire_0225.jpg, Predicted Label: Non-Fire, Confidence: 0.9990462064743042\n",
            "Image: /content/dataset/Forest Fire Dataset/Testing/nofire_0346.jpg, Predicted Label: Non-Fire, Confidence: 0.9992720484733582\n",
            "Image: /content/dataset/Forest Fire Dataset/Testing/fire_0618.jpg, Predicted Label: Fire, Confidence: 0.9990356586058624\n",
            "Image: /content/dataset/Forest Fire Dataset/Testing/fire_0188.jpg, Predicted Label: Fire, Confidence: 0.9999999408449902\n",
            "Image: /content/dataset/Forest Fire Dataset/Testing/nofire_0739.jpg, Predicted Label: Non-Fire, Confidence: 0.9754735231399536\n",
            "Image: /content/dataset/Forest Fire Dataset/Testing/fire_0234.jpg, Predicted Label: Fire, Confidence: 0.9991007429198362\n",
            "Image: /content/dataset/Forest Fire Dataset/Testing/fire_0872.jpg, Predicted Label: Fire, Confidence: 0.9999999929890131\n",
            "Image: /content/dataset/Forest Fire Dataset/Testing/nofire_0059.jpg, Predicted Label: Fire, Confidence: 0.7906382232904434\n",
            "Image: /content/dataset/Forest Fire Dataset/Testing/nofire_0322.jpg, Predicted Label: Non-Fire, Confidence: 0.9999991059303284\n",
            "Image: /content/dataset/Forest Fire Dataset/Testing/nofire_0295.jpg, Predicted Label: Non-Fire, Confidence: 0.9989436268806458\n",
            "Image: /content/dataset/Forest Fire Dataset/Testing/nofire_0599.jpg, Predicted Label: Non-Fire, Confidence: 0.999998927116394\n",
            "Image: /content/dataset/Forest Fire Dataset/Testing/fire_0239.jpg, Predicted Label: Fire, Confidence: 0.9999429000854434\n",
            "Image: /content/dataset/Forest Fire Dataset/Testing/fire_0822.jpg, Predicted Label: Fire, Confidence: 0.9999573582645098\n",
            "Image: /content/dataset/Forest Fire Dataset/Testing/nofire_0281.jpg, Predicted Label: Non-Fire, Confidence: 0.998826801776886\n",
            "Image: /content/dataset/Forest Fire Dataset/Testing/nofire_0762.jpg, Predicted Label: Fire, Confidence: 0.9965712709818035\n",
            "Image: /content/dataset/Forest Fire Dataset/Testing/nofire_0867.jpg, Predicted Label: Non-Fire, Confidence: 0.9946206212043762\n",
            "Image: /content/dataset/Forest Fire Dataset/Testing/nofire_0311.jpg, Predicted Label: Fire, Confidence: 0.7640042454004288\n",
            "Image: /content/dataset/Forest Fire Dataset/Testing/nofire_0273.jpg, Predicted Label: Non-Fire, Confidence: 0.9995312094688416\n",
            "Image: /content/dataset/Forest Fire Dataset/Testing/fire_0804.jpg, Predicted Label: Fire, Confidence: 0.9848963133990765\n",
            "Image: /content/dataset/Forest Fire Dataset/Testing/nofire_0846.jpg, Predicted Label: Non-Fire, Confidence: 0.9999989867210388\n",
            "Image: /content/dataset/Forest Fire Dataset/Testing/fire_0442.jpg, Predicted Label: Fire, Confidence: 0.9999831516252016\n",
            "Image: /content/dataset/Forest Fire Dataset/Testing/nofire_0930.jpg, Predicted Label: Non-Fire, Confidence: 0.9999200105667114\n",
            "Image: /content/dataset/Forest Fire Dataset/Testing/fire_0551.jpg, Predicted Label: Fire, Confidence: 0.9999857152179175\n",
            "Image: /content/dataset/Forest Fire Dataset/Testing/fire_0422.jpg, Predicted Label: Fire, Confidence: 0.9988300446420908\n",
            "Image: /content/dataset/Forest Fire Dataset/Testing/nofire_0635.jpg, Predicted Label: Non-Fire, Confidence: 0.9999815821647644\n",
            "Image: /content/dataset/Forest Fire Dataset/Testing/fire_0379.jpg, Predicted Label: Fire, Confidence: 0.999999999652849\n",
            "Image: /content/dataset/Forest Fire Dataset/Testing/nofire_0006.jpg, Predicted Label: Non-Fire, Confidence: 0.9938497543334961\n",
            "Image: /content/dataset/Forest Fire Dataset/Testing/fire_0063.jpg, Predicted Label: Fire, Confidence: 0.9988741019042209\n",
            "Image: /content/dataset/Forest Fire Dataset/Testing/fire_0752.jpg, Predicted Label: Fire, Confidence: 0.9999989594932686\n",
            "Image: /content/dataset/Forest Fire Dataset/Testing/nofire_0938.jpg, Predicted Label: Fire, Confidence: 0.9999451567164215\n",
            "Image: /content/dataset/Forest Fire Dataset/Testing/nofire_0174.jpg, Predicted Label: Non-Fire, Confidence: 0.9999865889549255\n",
            "Image: /content/dataset/Forest Fire Dataset/Testing/fire_0851.jpg, Predicted Label: Fire, Confidence: 0.9888445045799017\n",
            "Image: /content/dataset/Forest Fire Dataset/Testing/fire_0702.jpg, Predicted Label: Fire, Confidence: 0.9999999135583195\n",
            "Image: /content/dataset/Forest Fire Dataset/Testing/nofire_0674.jpg, Predicted Label: Non-Fire, Confidence: 0.999881386756897\n",
            "Image: /content/dataset/Forest Fire Dataset/Testing/fire_0530.jpg, Predicted Label: Fire, Confidence: 0.999988963193573\n",
            "Image: /content/dataset/Forest Fire Dataset/Testing/nofire_0863.jpg, Predicted Label: Fire, Confidence: 0.8339867144823074\n",
            "Image: /content/dataset/Forest Fire Dataset/Testing/fire_0280.jpg, Predicted Label: Fire, Confidence: 0.9999974692357227\n",
            "Image: /content/dataset/Forest Fire Dataset/Testing/nofire_0669.jpg, Predicted Label: Non-Fire, Confidence: 0.9999491572380066\n",
            "Image: /content/dataset/Forest Fire Dataset/Testing/fire_0224.jpg, Predicted Label: Fire, Confidence: 0.9999991433559785\n",
            "Image: /content/dataset/Forest Fire Dataset/Testing/fire_0941.jpg, Predicted Label: Fire, Confidence: 0.9996252777928021\n",
            "Image: /content/dataset/Forest Fire Dataset/Testing/fire_0734.jpg, Predicted Label: Fire, Confidence: 0.999965954801155\n",
            "Image: /content/dataset/Forest Fire Dataset/Testing/fire_0670.jpg, Predicted Label: Fire, Confidence: 0.998279923805967\n",
            "Image: /content/dataset/Forest Fire Dataset/Testing/nofire_0090.jpg, Predicted Label: Fire, Confidence: 0.826312854886055\n",
            "Image: /content/dataset/Forest Fire Dataset/Testing/fire_0860.jpg, Predicted Label: Fire, Confidence: 0.9999995736554013\n",
            "Image: /content/dataset/Forest Fire Dataset/Testing/nofire_0454.jpg, Predicted Label: Non-Fire, Confidence: 0.9970483779907227\n",
            "Image: /content/dataset/Forest Fire Dataset/Testing/nofire_0547.jpg, Predicted Label: Non-Fire, Confidence: 0.9999467730522156\n",
            "Image: /content/dataset/Forest Fire Dataset/Testing/fire_0289.jpg, Predicted Label: Fire, Confidence: 0.9997350366029423\n",
            "Image: /content/dataset/Forest Fire Dataset/Testing/nofire_0526.jpg, Predicted Label: Non-Fire, Confidence: 0.9917156100273132\n",
            "Image: /content/dataset/Forest Fire Dataset/Testing/fire_0764.jpg, Predicted Label: Fire, Confidence: 0.9999996103883007\n",
            "Image: /content/dataset/Forest Fire Dataset/Testing/nofire_0842.jpg, Predicted Label: Non-Fire, Confidence: 0.9997830986976624\n",
            "Image: /content/dataset/Forest Fire Dataset/Testing/fire_0836.jpg, Predicted Label: Fire, Confidence: 0.9999994217540689\n",
            "Image: /content/dataset/Forest Fire Dataset/Testing/fire_0917.jpg, Predicted Label: Fire, Confidence: 0.9881056807935238\n",
            "Image: /content/dataset/Forest Fire Dataset/Testing/nofire_0172.jpg, Predicted Label: Non-Fire, Confidence: 0.9960433840751648\n",
            "Image: /content/dataset/Forest Fire Dataset/Testing/nofire_0206.jpg, Predicted Label: Non-Fire, Confidence: 0.9999995231628418\n",
            "Image: /content/dataset/Forest Fire Dataset/Testing/nofire_0753.jpg, Predicted Label: Non-Fire, Confidence: 0.9934967160224915\n",
            "Image: /content/dataset/Forest Fire Dataset/Testing/nofire_0691.jpg, Predicted Label: Non-Fire, Confidence: 0.9999206066131592\n",
            "Image: /content/dataset/Forest Fire Dataset/Testing/nofire_0664.jpg, Predicted Label: Non-Fire, Confidence: 0.9999530911445618\n",
            "Image: /content/dataset/Forest Fire Dataset/Testing/nofire_0878.jpg, Predicted Label: Non-Fire, Confidence: 0.9995017051696777\n",
            "Image: /content/dataset/Forest Fire Dataset/Testing/nofire_0160.jpg, Predicted Label: Non-Fire, Confidence: 0.9976768493652344\n",
            "Image: /content/dataset/Forest Fire Dataset/Testing/fire_0799.jpg, Predicted Label: Fire, Confidence: 0.9999999973990703\n",
            "Image: /content/dataset/Forest Fire Dataset/Testing/nofire_0538.jpg, Predicted Label: Non-Fire, Confidence: 0.9999905228614807\n",
            "Image: /content/dataset/Forest Fire Dataset/Testing/nofire_0365.jpg, Predicted Label: Non-Fire, Confidence: 0.976324737071991\n",
            "Image: /content/dataset/Forest Fire Dataset/Testing/nofire_0354.jpg, Predicted Label: Non-Fire, Confidence: 0.9950128197669983\n",
            "Image: /content/dataset/Forest Fire Dataset/Testing/nofire_0010.jpg, Predicted Label: Non-Fire, Confidence: 0.9971498250961304\n",
            "Image: /content/dataset/Forest Fire Dataset/Testing/fire_0569.jpg, Predicted Label: Fire, Confidence: 0.999990909474036\n",
            "Image: /content/dataset/Forest Fire Dataset/Testing/fire_0482.jpg, Predicted Label: Fire, Confidence: 0.9656802676618099\n",
            "Image: /content/dataset/Forest Fire Dataset/Testing/fire_0526.jpg, Predicted Label: Fire, Confidence: 0.9999995161532524\n",
            "Image: /content/dataset/Forest Fire Dataset/Testing/fire_0549.jpg, Predicted Label: Fire, Confidence: 0.7802609652280807\n",
            "Image: /content/dataset/Forest Fire Dataset/Testing/fire_0417.jpg, Predicted Label: Fire, Confidence: 0.9999999471179208\n",
            "Image: /content/dataset/Forest Fire Dataset/Testing/nofire_0447.jpg, Predicted Label: Non-Fire, Confidence: 0.9982092976570129\n",
            "Image: /content/dataset/Forest Fire Dataset/Testing/fire_0390.jpg, Predicted Label: Fire, Confidence: 0.9974488220177591\n",
            "Image: /content/dataset/Forest Fire Dataset/Testing/fire_0593.jpg, Predicted Label: Fire, Confidence: 0.9926317259669304\n",
            "Image: /content/dataset/Forest Fire Dataset/Testing/nofire_0126.jpg, Predicted Label: Non-Fire, Confidence: 0.9999849796295166\n",
            "Image: /content/dataset/Forest Fire Dataset/Testing/fire_0856.jpg, Predicted Label: Fire, Confidence: 0.999998233554038\n",
            "Image: /content/dataset/Forest Fire Dataset/Testing/nofire_0819.jpg, Predicted Label: Non-Fire, Confidence: 0.9996175169944763\n",
            "Image: /content/dataset/Forest Fire Dataset/Testing/fire_0905.jpg, Predicted Label: Fire, Confidence: 0.9922098172828555\n",
            "Image: /content/dataset/Forest Fire Dataset/Testing/nofire_0711.jpg, Predicted Label: Non-Fire, Confidence: 0.9991898536682129\n",
            "Image: /content/dataset/Forest Fire Dataset/Testing/fire_0842.jpg, Predicted Label: Fire, Confidence: 0.9999091706704348\n",
            "Image: /content/dataset/Forest Fire Dataset/Testing/nofire_0140.jpg, Predicted Label: Non-Fire, Confidence: 0.9998362064361572\n",
            "Image: /content/dataset/Forest Fire Dataset/Testing/nofire_0555.jpg, Predicted Label: Non-Fire, Confidence: 0.9999175667762756\n",
            "Image: /content/dataset/Forest Fire Dataset/Testing/fire_0816.jpg, Predicted Label: Fire, Confidence: 0.9999999999043354\n",
            "Image: /content/dataset/Forest Fire Dataset/Testing/nofire_0098.jpg, Predicted Label: Non-Fire, Confidence: 0.9978998303413391\n",
            "Image: /content/dataset/Forest Fire Dataset/Testing/fire_0910.jpg, Predicted Label: Fire, Confidence: 0.9999999853344352\n",
            "Image: /content/dataset/Forest Fire Dataset/Testing/fire_0403.jpg, Predicted Label: Fire, Confidence: 0.9997375035309233\n",
            "Image: /content/dataset/Forest Fire Dataset/Testing/fire_0581.jpg, Predicted Label: Fire, Confidence: 0.8542976528406143\n",
            "Image: /content/dataset/Forest Fire Dataset/Testing/nofire_0774.jpg, Predicted Label: Non-Fire, Confidence: 0.9999821186065674\n",
            "Image: /content/dataset/Forest Fire Dataset/Testing/nofire_0349.jpg, Predicted Label: Non-Fire, Confidence: 0.9999992847442627\n",
            "Image: /content/dataset/Forest Fire Dataset/Testing/fire_0882.jpg, Predicted Label: Fire, Confidence: 0.9999985311890214\n",
            "Image: /content/dataset/Forest Fire Dataset/Testing/nofire_0196.jpg, Predicted Label: Non-Fire, Confidence: 0.539484441280365\n",
            "Image: /content/dataset/Forest Fire Dataset/Testing/fire_0453.jpg, Predicted Label: Fire, Confidence: 0.9983125891303644\n",
            "Image: /content/dataset/Forest Fire Dataset/Testing/fire_0731.jpg, Predicted Label: Fire, Confidence: 0.9999977107077029\n",
            "Image: /content/dataset/Forest Fire Dataset/Testing/nofire_0623.jpg, Predicted Label: Non-Fire, Confidence: 0.9992781281471252\n",
            "Image: /content/dataset/Forest Fire Dataset/Testing/nofire_0476.jpg, Predicted Label: Non-Fire, Confidence: 0.999921977519989\n",
            "Image: /content/dataset/Forest Fire Dataset/Testing/nofire_0823.jpg, Predicted Label: Non-Fire, Confidence: 0.9999718070030212\n",
            "Image: /content/dataset/Forest Fire Dataset/Testing/nofire_0405.jpg, Predicted Label: Non-Fire, Confidence: 0.9997287392616272\n",
            "Image: /content/dataset/Forest Fire Dataset/Testing/nofire_0491.jpg, Predicted Label: Non-Fire, Confidence: 0.9999901056289673\n",
            "Image: /content/dataset/Forest Fire Dataset/Testing/nofire_0906.jpg, Predicted Label: Non-Fire, Confidence: 0.9966330528259277\n",
            "Image: /content/dataset/Forest Fire Dataset/Testing/fire_0576.jpg, Predicted Label: Fire, Confidence: 0.9698697458952665\n",
            "Image: /content/dataset/Forest Fire Dataset/Testing/fire_0466.jpg, Predicted Label: Fire, Confidence: 0.9975368978921324\n",
            "Image: /content/dataset/Forest Fire Dataset/Testing/fire_0305.jpg, Predicted Label: Fire, Confidence: 0.9782687835395336\n",
            "Image: /content/dataset/Forest Fire Dataset/Testing/nofire_0372.jpg, Predicted Label: Non-Fire, Confidence: 0.999771237373352\n",
            "Image: /content/dataset/Forest Fire Dataset/Testing/nofire_0851.jpg, Predicted Label: Non-Fire, Confidence: 0.875273585319519\n",
            "Image: /content/dataset/Forest Fire Dataset/Testing/nofire_0809.jpg, Predicted Label: Non-Fire, Confidence: 0.9999993443489075\n",
            "Image: /content/dataset/Forest Fire Dataset/Testing/nofire_0094.jpg, Predicted Label: Non-Fire, Confidence: 0.999252200126648\n",
            "Image: /content/dataset/Forest Fire Dataset/Testing/nofire_0531.jpg, Predicted Label: Non-Fire, Confidence: 0.9997787475585938\n",
            "Image: /content/dataset/Forest Fire Dataset/Testing/fire_0726.jpg, Predicted Label: Fire, Confidence: 0.999996073921011\n",
            "Image: /content/dataset/Forest Fire Dataset/Testing/fire_0620.jpg, Predicted Label: Fire, Confidence: 0.996902636019513\n",
            "Image: /content/dataset/Forest Fire Dataset/Testing/fire_0522.jpg, Predicted Label: Fire, Confidence: 0.9995462923543528\n",
            "Image: /content/dataset/Forest Fire Dataset/Testing/fire_0179.jpg, Predicted Label: Fire, Confidence: 0.9999996198115753\n",
            "Image: /content/dataset/Forest Fire Dataset/Testing/fire_0139.jpg, Predicted Label: Fire, Confidence: 0.9999937230168143\n",
            "Image: /content/dataset/Forest Fire Dataset/Testing/fire_0048.jpg, Predicted Label: Fire, Confidence: 0.9993945821770467\n",
            "Image: /content/dataset/Forest Fire Dataset/Testing/nofire_0076.jpg, Predicted Label: Non-Fire, Confidence: 0.9981791377067566\n",
            "Image: /content/dataset/Forest Fire Dataset/Testing/fire_0504.jpg, Predicted Label: Fire, Confidence: 0.9999975398320657\n",
            "Image: /content/dataset/Forest Fire Dataset/Testing/fire_0300.jpg, Predicted Label: Fire, Confidence: 0.991297977976501\n",
            "Image: /content/dataset/Forest Fire Dataset/Testing/fire_0371.jpg, Predicted Label: Fire, Confidence: 0.9999931232646304\n",
            "Image: /content/dataset/Forest Fire Dataset/Testing/nofire_0084.jpg, Predicted Label: Non-Fire, Confidence: 0.6040585041046143\n",
            "Image: /content/dataset/Forest Fire Dataset/Testing/nofire_0299.jpg, Predicted Label: Non-Fire, Confidence: 0.9999291300773621\n",
            "Image: /content/dataset/Forest Fire Dataset/Testing/nofire_0270.jpg, Predicted Label: Non-Fire, Confidence: 0.9999997615814209\n",
            "Image: /content/dataset/Forest Fire Dataset/Testing/nofire_0202.jpg, Predicted Label: Non-Fire, Confidence: 0.9972167611122131\n",
            "Image: /content/dataset/Forest Fire Dataset/Testing/fire_0091.jpg, Predicted Label: Fire, Confidence: 0.9935031956993043\n",
            "Image: /content/dataset/Forest Fire Dataset/Testing/nofire_0796.jpg, Predicted Label: Non-Fire, Confidence: 0.9997592568397522\n",
            "Image: /content/dataset/Forest Fire Dataset/Testing/nofire_0499.jpg, Predicted Label: Non-Fire, Confidence: 0.9999760389328003\n",
            "Image: /content/dataset/Forest Fire Dataset/Testing/fire_0653.jpg, Predicted Label: Fire, Confidence: 0.982824295759201\n",
            "Image: /content/dataset/Forest Fire Dataset/Testing/fire_0757.jpg, Predicted Label: Fire, Confidence: 0.9999701466786064\n",
            "Image: /content/dataset/Forest Fire Dataset/Testing/nofire_0422.jpg, Predicted Label: Non-Fire, Confidence: 0.8415443301200867\n",
            "Image: /content/dataset/Forest Fire Dataset/Testing/fire_0849.jpg, Predicted Label: Fire, Confidence: 0.9999902749832472\n",
            "Image: /content/dataset/Forest Fire Dataset/Testing/fire_0525.jpg, Predicted Label: Fire, Confidence: 0.9999992059728697\n",
            "Image: /content/dataset/Forest Fire Dataset/Testing/nofire_0926.jpg, Predicted Label: Non-Fire, Confidence: 0.9690077900886536\n",
            "Image: /content/dataset/Forest Fire Dataset/Testing/fire_0348.jpg, Predicted Label: Fire, Confidence: 0.9618386700749397\n",
            "Image: /content/dataset/Forest Fire Dataset/Testing/fire_0706.jpg, Predicted Label: Fire, Confidence: 0.9999977924255745\n",
            "Image: /content/dataset/Forest Fire Dataset/Testing/fire_0174.jpg, Predicted Label: Fire, Confidence: 0.9999685918264731\n",
            "Image: /content/dataset/Forest Fire Dataset/Testing/fire_0678.jpg, Predicted Label: Fire, Confidence: 0.9857599809765816\n",
            "Image: /content/dataset/Forest Fire Dataset/Testing/nofire_0747.jpg, Predicted Label: Non-Fire, Confidence: 0.9999988675117493\n",
            "Image: /content/dataset/Forest Fire Dataset/Testing/nofire_0918.jpg, Predicted Label: Non-Fire, Confidence: 0.9999995827674866\n",
            "Image: /content/dataset/Forest Fire Dataset/Testing/fire_0570.jpg, Predicted Label: Fire, Confidence: 0.9999705494865339\n",
            "Image: /content/dataset/Forest Fire Dataset/Testing/nofire_0887.jpg, Predicted Label: Non-Fire, Confidence: 0.999905526638031\n",
            "Image: /content/dataset/Forest Fire Dataset/Testing/fire_0680.jpg, Predicted Label: Fire, Confidence: 0.9999711107193434\n",
            "Image: /content/dataset/Forest Fire Dataset/Testing/fire_0553.jpg, Predicted Label: Fire, Confidence: 0.9999964520538924\n",
            "Image: /content/dataset/Forest Fire Dataset/Testing/fire_0791.jpg, Predicted Label: Fire, Confidence: 0.9998477635817835\n",
            "Image: /content/dataset/Forest Fire Dataset/Testing/nofire_0757.jpg, Predicted Label: Non-Fire, Confidence: 0.9999198317527771\n",
            "Image: /content/dataset/Forest Fire Dataset/Testing/fire_0878.jpg, Predicted Label: Fire, Confidence: 0.9885196713730693\n",
            "Image: /content/dataset/Forest Fire Dataset/Testing/nofire_0267.jpg, Predicted Label: Non-Fire, Confidence: 0.9999983906745911\n",
            "Image: /content/dataset/Forest Fire Dataset/Testing/fire_0807.jpg, Predicted Label: Fire, Confidence: 0.9995176728116348\n",
            "Image: /content/dataset/Forest Fire Dataset/Testing/fire_0890.jpg, Predicted Label: Fire, Confidence: 0.9948861664161086\n",
            "Image: /content/dataset/Forest Fire Dataset/Testing/fire_0490.jpg, Predicted Label: Fire, Confidence: 0.8950275853276253\n",
            "Image: /content/dataset/Forest Fire Dataset/Testing/nofire_0128.jpg, Predicted Label: Non-Fire, Confidence: 0.9925085306167603\n",
            "Image: /content/dataset/Forest Fire Dataset/Testing/nofire_0911.jpg, Predicted Label: Non-Fire, Confidence: 0.9999972581863403\n",
            "Image: /content/dataset/Forest Fire Dataset/Testing/fire_0145.jpg, Predicted Label: Fire, Confidence: 0.9999993712601736\n",
            "Image: /content/dataset/Forest Fire Dataset/Testing/fire_0686.jpg, Predicted Label: Fire, Confidence: 0.9981034742668271\n",
            "Image: /content/dataset/Forest Fire Dataset/Testing/nofire_0934.jpg, Predicted Label: Non-Fire, Confidence: 0.9821050763130188\n",
            "Image: /content/dataset/Forest Fire Dataset/Testing/nofire_0192.jpg, Predicted Label: Non-Fire, Confidence: 0.9999986886978149\n",
            "Image: /content/dataset/Forest Fire Dataset/Testing/nofire_0800.jpg, Predicted Label: Non-Fire, Confidence: 0.9994496703147888\n",
            "Image: /content/dataset/Forest Fire Dataset/Testing/fire_0340.jpg, Predicted Label: Fire, Confidence: 0.9999414909216284\n",
            "Image: /content/dataset/Forest Fire Dataset/Testing/fire_0657.jpg, Predicted Label: Fire, Confidence: 0.99974832177395\n",
            "Image: /content/dataset/Forest Fire Dataset/Testing/fire_0854.jpg, Predicted Label: Fire, Confidence: 0.9999985717520303\n",
            "Image: /content/dataset/Forest Fire Dataset/Testing/nofire_0503.jpg, Predicted Label: Non-Fire, Confidence: 0.999969482421875\n",
            "Image: /content/dataset/Forest Fire Dataset/Testing/fire_0864.jpg, Predicted Label: Fire, Confidence: 0.9837586227804422\n",
            "Image: /content/dataset/Forest Fire Dataset/Testing/fire_0395.jpg, Predicted Label: Fire, Confidence: 0.9999544959864579\n",
            "Image: /content/dataset/Forest Fire Dataset/Testing/nofire_0411.jpg, Predicted Label: Non-Fire, Confidence: 0.9998837113380432\n",
            "Image: /content/dataset/Forest Fire Dataset/Testing/nofire_0278.jpg, Predicted Label: Non-Fire, Confidence: 0.9974732995033264\n",
            "Image: /content/dataset/Forest Fire Dataset/Testing/nofire_0292.jpg, Predicted Label: Non-Fire, Confidence: 0.9981182217597961\n",
            "Image: /content/dataset/Forest Fire Dataset/Testing/fire_0143.jpg, Predicted Label: Fire, Confidence: 0.9999993959864923\n",
            "Image: /content/dataset/Forest Fire Dataset/Testing/nofire_0436.jpg, Predicted Label: Non-Fire, Confidence: 0.999980628490448\n",
            "Image: /content/dataset/Forest Fire Dataset/Testing/fire_0630.jpg, Predicted Label: Fire, Confidence: 0.998788385419175\n",
            "Image: /content/dataset/Forest Fire Dataset/Testing/nofire_0855.jpg, Predicted Label: Non-Fire, Confidence: 0.9991822242736816\n",
            "Image: /content/dataset/Forest Fire Dataset/Testing/fire_0383.jpg, Predicted Label: Fire, Confidence: 0.9950031591579318\n",
            "Image: /content/dataset/Forest Fire Dataset/Testing/nofire_0608.jpg, Predicted Label: Non-Fire, Confidence: 0.9998664855957031\n",
            "Image: /content/dataset/Forest Fire Dataset/Testing/nofire_0785.jpg, Predicted Label: Non-Fire, Confidence: 0.9999977946281433\n",
            "Image: /content/dataset/Forest Fire Dataset/Testing/nofire_0701.jpg, Predicted Label: Non-Fire, Confidence: 0.9848001003265381\n",
            "Image: /content/dataset/Forest Fire Dataset/Testing/fire_0589.jpg, Predicted Label: Fire, Confidence: 0.9999999543097324\n",
            "Image: /content/dataset/Forest Fire Dataset/Testing/fire_0709.jpg, Predicted Label: Fire, Confidence: 0.9999999972207432\n",
            "Image: /content/dataset/Forest Fire Dataset/Testing/nofire_0393.jpg, Predicted Label: Non-Fire, Confidence: 0.9999698400497437\n",
            "Image: /content/dataset/Forest Fire Dataset/Testing/nofire_0180.jpg, Predicted Label: Non-Fire, Confidence: 0.9951607584953308\n",
            "Image: /content/dataset/Forest Fire Dataset/Testing/fire_0329.jpg, Predicted Label: Fire, Confidence: 0.9999828213749424\n",
            "Image: /content/dataset/Forest Fire Dataset/Testing/nofire_0574.jpg, Predicted Label: Fire, Confidence: 0.9999969161015088\n",
            "Image: /content/dataset/Forest Fire Dataset/Testing/fire_0072.jpg, Predicted Label: Fire, Confidence: 0.8897923305630684\n",
            "Image: /content/dataset/Forest Fire Dataset/Testing/nofire_0833.jpg, Predicted Label: Non-Fire, Confidence: 0.9999935030937195\n",
            "Image: /content/dataset/Forest Fire Dataset/Testing/nofire_0771.jpg, Predicted Label: Non-Fire, Confidence: 0.9998927712440491\n",
            "Image: /content/dataset/Forest Fire Dataset/Testing/nofire_0642.jpg, Predicted Label: Non-Fire, Confidence: 0.9995384812355042\n",
            "Image: /content/dataset/Forest Fire Dataset/Testing/nofire_0557.jpg, Predicted Label: Non-Fire, Confidence: 0.9999682903289795\n",
            "Image: /content/dataset/Forest Fire Dataset/Testing/nofire_0344.jpg, Predicted Label: Non-Fire, Confidence: 0.9998376369476318\n",
            "Image: /content/dataset/Forest Fire Dataset/Testing/fire_0537.jpg, Predicted Label: Non-Fire, Confidence: 0.7934377789497375\n",
            "Image: /content/dataset/Forest Fire Dataset/Testing/fire_0436.jpg, Predicted Label: Fire, Confidence: 0.9999999270048505\n",
            "Image: /content/dataset/Forest Fire Dataset/Testing/fire_0945.jpg, Predicted Label: Fire, Confidence: 0.909401148557663\n",
            "Image: /content/dataset/Forest Fire Dataset/Testing/nofire_0103.jpg, Predicted Label: Non-Fire, Confidence: 0.6345313191413879\n",
            "Image: /content/dataset/Forest Fire Dataset/Testing/nofire_0724.jpg, Predicted Label: Fire, Confidence: 0.5578327476978302\n",
            "Image: /content/dataset/Forest Fire Dataset/Testing/fire_0253.jpg, Predicted Label: Fire, Confidence: 0.9999527719301113\n",
            "Image: /content/dataset/Forest Fire Dataset/Testing/fire_0829.jpg, Predicted Label: Fire, Confidence: 0.9974688983056694\n",
            "Image: /content/dataset/Forest Fire Dataset/Testing/nofire_0611.jpg, Predicted Label: Non-Fire, Confidence: 0.9997895359992981\n",
            "Image: /content/dataset/Forest Fire Dataset/Testing/nofire_0219.jpg, Predicted Label: Fire, Confidence: 0.9858564119786024\n",
            "Image: /content/dataset/Forest Fire Dataset/Testing/fire_0084.jpg, Predicted Label: Fire, Confidence: 0.9941340521909297\n",
            "Image: /content/dataset/Forest Fire Dataset/Testing/fire_0325.jpg, Predicted Label: Fire, Confidence: 0.9994388388004154\n",
            "Image: /content/dataset/Forest Fire Dataset/Testing/nofire_0679.jpg, Predicted Label: Non-Fire, Confidence: 0.9999633431434631\n",
            "Image: /content/dataset/Forest Fire Dataset/Testing/nofire_0742.jpg, Predicted Label: Non-Fire, Confidence: 0.999659538269043\n",
            "Image: /content/dataset/Forest Fire Dataset/Testing/nofire_0443.jpg, Predicted Label: Non-Fire, Confidence: 0.8869543671607971\n",
            "Image: /content/dataset/Forest Fire Dataset/Testing/nofire_0943.jpg, Predicted Label: Non-Fire, Confidence: 0.979445219039917\n",
            "Image: /content/dataset/Forest Fire Dataset/Testing/fire_0500.jpg, Predicted Label: Fire, Confidence: 0.9999233280395856\n",
            "Image: /content/dataset/Forest Fire Dataset/Testing/fire_0277.jpg, Predicted Label: Fire, Confidence: 0.999908695135673\n",
            "Image: /content/dataset/Forest Fire Dataset/Testing/fire_0217.jpg, Predicted Label: Fire, Confidence: 0.9999998634101388\n",
            "Image: /content/dataset/Forest Fire Dataset/Testing/fire_0634.jpg, Predicted Label: Fire, Confidence: 0.9997795820236206\n",
            "Image: /content/dataset/Forest Fire Dataset/Testing/nofire_0357.jpg, Predicted Label: Non-Fire, Confidence: 0.9999696016311646\n",
            "Image: /content/dataset/Forest Fire Dataset/Testing/fire_0648.jpg, Predicted Label: Fire, Confidence: 0.9999995971571991\n",
            "Image: /content/dataset/Forest Fire Dataset/Testing/fire_0885.jpg, Predicted Label: Fire, Confidence: 0.9999997545112649\n",
            "Image: /content/dataset/Forest Fire Dataset/Testing/nofire_0256.jpg, Predicted Label: Non-Fire, Confidence: 0.9649562239646912\n",
            "Image: /content/dataset/Forest Fire Dataset/Testing/fire_0743.jpg, Predicted Label: Fire, Confidence: 0.9999987520075138\n",
            "Image: /content/dataset/Forest Fire Dataset/Testing/fire_0502.jpg, Predicted Label: Fire, Confidence: 0.99867205217015\n",
            "Image: /content/dataset/Forest Fire Dataset/Testing/fire_0784.jpg, Predicted Label: Fire, Confidence: 0.999999529114433\n",
            "Image: /content/dataset/Forest Fire Dataset/Testing/fire_0583.jpg, Predicted Label: Fire, Confidence: 0.9999999997739559\n",
            "Image: /content/dataset/Forest Fire Dataset/Testing/fire_0400.jpg, Predicted Label: Fire, Confidence: 0.9764530919492245\n",
            "Image: /content/dataset/Forest Fire Dataset/Testing/fire_0475.jpg, Predicted Label: Fire, Confidence: 0.9999999403148152\n",
            "Image: /content/dataset/Forest Fire Dataset/Testing/fire_0444.jpg, Predicted Label: Fire, Confidence: 0.9999690989134251\n",
            "Image: /content/dataset/Forest Fire Dataset/Testing/fire_0564.jpg, Predicted Label: Fire, Confidence: 0.9997457970748655\n",
            "Image: /content/dataset/Forest Fire Dataset/Testing/fire_0477.jpg, Predicted Label: Fire, Confidence: 0.99999914724566\n",
            "Image: /content/dataset/Forest Fire Dataset/Testing/fire_0002.jpg, Predicted Label: Fire, Confidence: 0.9996986099577043\n",
            "Image: /content/dataset/Forest Fire Dataset/Testing/nofire_0427.jpg, Predicted Label: Non-Fire, Confidence: 0.9999980926513672\n",
            "Image: /content/dataset/Forest Fire Dataset/Testing/nofire_0593.jpg, Predicted Label: Non-Fire, Confidence: 0.9999857544898987\n",
            "Image: /content/dataset/Forest Fire Dataset/Testing/nofire_0332.jpg, Predicted Label: Non-Fire, Confidence: 0.9956712126731873\n",
            "Image: /content/dataset/Forest Fire Dataset/Testing/fire_0426.jpg, Predicted Label: Fire, Confidence: 0.9997037444845773\n",
            "Image: /content/dataset/Forest Fire Dataset/Testing/fire_0344.jpg, Predicted Label: Fire, Confidence: 0.9999998030362036\n",
            "Image: /content/dataset/Forest Fire Dataset/Testing/fire_0839.jpg, Predicted Label: Fire, Confidence: 0.995502382516861\n",
            "Image: /content/dataset/Forest Fire Dataset/Testing/nofire_0791.jpg, Predicted Label: Non-Fire, Confidence: 0.9994427561759949\n",
            "Image: /content/dataset/Forest Fire Dataset/Testing/nofire_0696.jpg, Predicted Label: Non-Fire, Confidence: 0.6997321248054504\n",
            "Image: /content/dataset/Forest Fire Dataset/Testing/nofire_0872.jpg, Predicted Label: Non-Fire, Confidence: 0.9931008219718933\n",
            "Image: /content/dataset/Forest Fire Dataset/Testing/fire_0493.jpg, Predicted Label: Fire, Confidence: 0.999961214074574\n",
            "Image: /content/dataset/Forest Fire Dataset/Testing/fire_0927.jpg, Predicted Label: Fire, Confidence: 0.9997531505650841\n",
            "Image: /content/dataset/Forest Fire Dataset/Testing/nofire_0132.jpg, Predicted Label: Non-Fire, Confidence: 0.9125199913978577\n",
            "Image: /content/dataset/Forest Fire Dataset/Testing/nofire_0115.jpg, Predicted Label: Non-Fire, Confidence: 0.999991238117218\n",
            "Image: /content/dataset/Forest Fire Dataset/Testing/nofire_0326.jpg, Predicted Label: Non-Fire, Confidence: 0.99520343542099\n",
            "Image: /content/dataset/Forest Fire Dataset/Testing/nofire_0051.jpg, Predicted Label: Fire, Confidence: 0.7942283898591995\n",
            "Image: /content/dataset/Forest Fire Dataset/Testing/nofire_0431.jpg, Predicted Label: Non-Fire, Confidence: 0.9992305636405945\n",
            "Image: /content/dataset/Forest Fire Dataset/Testing/fire_0447.jpg, Predicted Label: Fire, Confidence: 0.9997697768412763\n",
            "Image: /content/dataset/Forest Fire Dataset/Testing/fire_0691.jpg, Predicted Label: Fire, Confidence: 0.9999995118461129\n",
            "Image: /content/dataset/Forest Fire Dataset/Testing/nofire_0336.jpg, Predicted Label: Non-Fire, Confidence: 0.97678542137146\n",
            "Image: /content/dataset/Forest Fire Dataset/Testing/fire_0599.jpg, Predicted Label: Fire, Confidence: 0.999618611036567\n",
            "Image: /content/dataset/Forest Fire Dataset/Testing/fire_0604.jpg, Predicted Label: Fire, Confidence: 0.9969005533494055\n",
            "Image: /content/dataset/Forest Fire Dataset/Testing/fire_0827.jpg, Predicted Label: Fire, Confidence: 0.999728783062892\n",
            "Image: /content/dataset/Forest Fire Dataset/Testing/fire_0739.jpg, Predicted Label: Fire, Confidence: 0.9999488416251552\n",
            "Image: /content/dataset/Forest Fire Dataset/Testing/fire_0355.jpg, Predicted Label: Fire, Confidence: 0.9996888788300566\n",
            "Image: /content/dataset/Forest Fire Dataset/Testing/nofire_0729.jpg, Predicted Label: Non-Fire, Confidence: 0.8332198858261108\n",
            "Image: /content/dataset/Forest Fire Dataset/Testing/fire_0097.jpg, Predicted Label: Fire, Confidence: 0.9999958481189424\n",
            "Image: /content/dataset/Forest Fire Dataset/Testing/nofire_0464.jpg, Predicted Label: Non-Fire, Confidence: 0.989761471748352\n",
            "Image: /content/dataset/Forest Fire Dataset/Testing/fire_0314.jpg, Predicted Label: Fire, Confidence: 0.9999998871133542\n",
            "Image: /content/dataset/Forest Fire Dataset/Testing/fire_0027.jpg, Predicted Label: Fire, Confidence: 0.999999953051482\n",
            "Image: /content/dataset/Forest Fire Dataset/Testing/fire_0769.jpg, Predicted Label: Non-Fire, Confidence: 0.9913303852081299\n",
            "Image: /content/dataset/Forest Fire Dataset/Testing/fire_0545.jpg, Predicted Label: Fire, Confidence: 0.9994803506997414\n",
            "Image: /content/dataset/Forest Fire Dataset/Testing/fire_0456.jpg, Predicted Label: Fire, Confidence: 0.9997825146856485\n",
            "Image: /content/dataset/Forest Fire Dataset/Testing/fire_0809.jpg, Predicted Label: Fire, Confidence: 0.9999999683376295\n",
            "Image: /content/dataset/Forest Fire Dataset/Testing/fire_0659.jpg, Predicted Label: Fire, Confidence: 0.895525261759758\n",
            "Image: /content/dataset/Forest Fire Dataset/Testing/fire_0780.jpg, Predicted Label: Fire, Confidence: 0.9999989310470028\n",
            "Image: /content/dataset/Forest Fire Dataset/Testing/fire_0665.jpg, Predicted Label: Fire, Confidence: 0.999909585894784\n",
            "Image: /content/dataset/Forest Fire Dataset/Testing/fire_0585.jpg, Predicted Label: Fire, Confidence: 0.9999999307112688\n",
            "Image: /content/dataset/Forest Fire Dataset/Testing/fire_0478.jpg, Predicted Label: Fire, Confidence: 0.9999849292153158\n",
            "Image: /content/dataset/Forest Fire Dataset/Testing/nofire_0813.jpg, Predicted Label: Non-Fire, Confidence: 0.9999998211860657\n",
            "Image: /content/dataset/Forest Fire Dataset/Testing/nofire_0884.jpg, Predicted Label: Non-Fire, Confidence: 0.9999194741249084\n",
            "Image: /content/dataset/Forest Fire Dataset/Testing/nofire_0314.jpg, Predicted Label: Non-Fire, Confidence: 0.9989235401153564\n",
            "Image: /content/dataset/Forest Fire Dataset/Testing/nofire_0817.jpg, Predicted Label: Fire, Confidence: 0.9201194196939468\n",
            "Image: /content/dataset/Forest Fire Dataset/Testing/nofire_0828.jpg, Predicted Label: Non-Fire, Confidence: 0.9987148642539978\n",
            "Image: /content/dataset/Forest Fire Dataset/Testing/fire_0760.jpg, Predicted Label: Fire, Confidence: 0.9999998190021131\n",
            "Image: /content/dataset/Forest Fire Dataset/Testing/fire_0258.jpg, Predicted Label: Fire, Confidence: 0.9999901957917245\n",
            "Image: /content/dataset/Forest Fire Dataset/Testing/nofire_0899.jpg, Predicted Label: Non-Fire, Confidence: 0.9998700022697449\n",
            "Image: /content/dataset/Forest Fire Dataset/Testing/nofire_0480.jpg, Predicted Label: Non-Fire, Confidence: 0.9989168643951416\n",
            "Image: /content/dataset/Forest Fire Dataset/Testing/nofire_0259.jpg, Predicted Label: Non-Fire, Confidence: 1.0\n",
            "Image: /content/dataset/Forest Fire Dataset/Testing/fire_0205.jpg, Predicted Label: Fire, Confidence: 0.999912364895863\n"
          ]
        }
      ]
    }
  ]
}